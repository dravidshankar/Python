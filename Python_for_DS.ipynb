{
  "nbformat": 4,
  "nbformat_minor": 0,
  "metadata": {
    "colab": {
      "name": "Python for DS.ipynb",
      "provenance": [],
      "authorship_tag": "ABX9TyN1z+KXcJ4SIssoF5WoxsLU",
      "include_colab_link": true
    },
    "kernelspec": {
      "name": "python3",
      "display_name": "Python 3"
    }
  },
  "cells": [
    {
      "cell_type": "markdown",
      "metadata": {
        "id": "view-in-github",
        "colab_type": "text"
      },
      "source": [
        "<a href=\"https://colab.research.google.com/github/dravidshankar/Python/blob/master/Python_for_DS.ipynb\" target=\"_parent\"><img src=\"https://colab.research.google.com/assets/colab-badge.svg\" alt=\"Open In Colab\"/></a>"
      ]
    },
    {
      "cell_type": "markdown",
      "metadata": {
        "id": "5l5IbwdMSRtD",
        "colab_type": "text"
      },
      "source": [
        "# **Python for Data Science**"
      ]
    },
    {
      "cell_type": "code",
      "metadata": {
        "id": "f5wUPv_IRrpz",
        "colab_type": "code",
        "colab": {
          "base_uri": "https://localhost:8080/",
          "height": 34
        },
        "outputId": "dbdec275-58b2-4959-876b-e4f9c1d245d8"
      },
      "source": [
        "!ls"
      ],
      "execution_count": null,
      "outputs": [
        {
          "output_type": "stream",
          "text": [
            "sample_data\n"
          ],
          "name": "stdout"
        }
      ]
    },
    {
      "cell_type": "code",
      "metadata": {
        "id": "EVMdSEFGTDri",
        "colab_type": "code",
        "colab": {
          "base_uri": "https://localhost:8080/",
          "height": 34
        },
        "outputId": "059d8fb7-816f-4cfd-b2d8-cfe196d420c1"
      },
      "source": [
        "#jupyter --> julia,python & R\n",
        "#spyder, eclipse --> IDE\n",
        "#python - Interpreted Programming language\n",
        "#object --> integer, floating point, string, Boolean, list, tuple\n",
        "print(\"Hello World\")"
      ],
      "execution_count": null,
      "outputs": [
        {
          "output_type": "stream",
          "text": [
            "Hello World\n"
          ],
          "name": "stdout"
        }
      ]
    },
    {
      "cell_type": "code",
      "metadata": {
        "id": "Plif4GtFVO1V",
        "colab_type": "code",
        "colab": {
          "base_uri": "https://localhost:8080/",
          "height": 34
        },
        "outputId": "322a5996-119d-4a3b-d7c9-70911c9efcbc"
      },
      "source": [
        "type(3.5) #built-in function"
      ],
      "execution_count": null,
      "outputs": [
        {
          "output_type": "execute_result",
          "data": {
            "text/plain": [
              "float"
            ]
          },
          "metadata": {
            "tags": []
          },
          "execution_count": 3
        }
      ]
    },
    {
      "cell_type": "code",
      "metadata": {
        "id": "bpU5tIUAVVub",
        "colab_type": "code",
        "colab": {
          "base_uri": "https://localhost:8080/",
          "height": 34
        },
        "outputId": "4a4e2096-87f2-4d94-e092-3e38a374cf71"
      },
      "source": [
        "type(True)"
      ],
      "execution_count": null,
      "outputs": [
        {
          "output_type": "execute_result",
          "data": {
            "text/plain": [
              "bool"
            ]
          },
          "metadata": {
            "tags": []
          },
          "execution_count": 4
        }
      ]
    },
    {
      "cell_type": "code",
      "metadata": {
        "id": "UenjNTS_Vffz",
        "colab_type": "code",
        "colab": {
          "base_uri": "https://localhost:8080/",
          "height": 34
        },
        "outputId": "869a1551-2f2b-491d-bf0f-4fe378138a29"
      },
      "source": [
        "country = \"somalia\"\n",
        "type(country)"
      ],
      "execution_count": null,
      "outputs": [
        {
          "output_type": "execute_result",
          "data": {
            "text/plain": [
              "str"
            ]
          },
          "metadata": {
            "tags": []
          },
          "execution_count": 6
        }
      ]
    },
    {
      "cell_type": "code",
      "metadata": {
        "id": "kdZp7PJWWk5i",
        "colab_type": "code",
        "colab": {
          "base_uri": "https://localhost:8080/",
          "height": 35
        },
        "outputId": "79ac27c2-8787-47bd-c8a4-8d4e125e63ea"
      },
      "source": [
        "country.capitalize()"
      ],
      "execution_count": null,
      "outputs": [
        {
          "output_type": "execute_result",
          "data": {
            "application/vnd.google.colaboratory.intrinsic+json": {
              "type": "string"
            },
            "text/plain": [
              "'Somalia'"
            ]
          },
          "metadata": {
            "tags": []
          },
          "execution_count": 7
        }
      ]
    },
    {
      "cell_type": "code",
      "metadata": {
        "id": "9LlAxVJXW3oq",
        "colab_type": "code",
        "colab": {
          "base_uri": "https://localhost:8080/",
          "height": 34
        },
        "outputId": "dc5d8fe1-d3be-4a40-a286-6d76a241d111"
      },
      "source": [
        "2*3"
      ],
      "execution_count": null,
      "outputs": [
        {
          "output_type": "execute_result",
          "data": {
            "text/plain": [
              "6"
            ]
          },
          "metadata": {
            "tags": []
          },
          "execution_count": 8
        }
      ]
    },
    {
      "cell_type": "code",
      "metadata": {
        "id": "_PP45QPiW9dx",
        "colab_type": "code",
        "colab": {
          "base_uri": "https://localhost:8080/",
          "height": 34
        },
        "outputId": "a770b1f8-77e0-4ee0-a088-0b87de61387f"
      },
      "source": [
        "2**3"
      ],
      "execution_count": null,
      "outputs": [
        {
          "output_type": "execute_result",
          "data": {
            "text/plain": [
              "8"
            ]
          },
          "metadata": {
            "tags": []
          },
          "execution_count": 9
        }
      ]
    },
    {
      "cell_type": "code",
      "metadata": {
        "id": "X0trXAfaXD4K",
        "colab_type": "code",
        "colab": {
          "base_uri": "https://localhost:8080/",
          "height": 34
        },
        "outputId": "05eb47bd-e3f3-4b8d-aa38-405f21b0d229"
      },
      "source": [
        "4%3"
      ],
      "execution_count": null,
      "outputs": [
        {
          "output_type": "execute_result",
          "data": {
            "text/plain": [
              "1"
            ]
          },
          "metadata": {
            "tags": []
          },
          "execution_count": 10
        }
      ]
    },
    {
      "cell_type": "code",
      "metadata": {
        "id": "4KsBSAibXIAR",
        "colab_type": "code",
        "colab": {
          "base_uri": "https://localhost:8080/",
          "height": 34
        },
        "outputId": "f3fba1d1-de76-4e53-90bf-68b5442fd77d"
      },
      "source": [
        "#Logical --> and, or, not\n",
        "#Boolean values --> True, False\n",
        "True and False"
      ],
      "execution_count": null,
      "outputs": [
        {
          "output_type": "execute_result",
          "data": {
            "text/plain": [
              "False"
            ]
          },
          "metadata": {
            "tags": []
          },
          "execution_count": 11
        }
      ]
    },
    {
      "cell_type": "code",
      "metadata": {
        "id": "iwp4z2gmXXjq",
        "colab_type": "code",
        "colab": {
          "base_uri": "https://localhost:8080/",
          "height": 34
        },
        "outputId": "01ed58a8-0377-4e7c-ef6e-8d9a81459913"
      },
      "source": [
        "not False"
      ],
      "execution_count": null,
      "outputs": [
        {
          "output_type": "execute_result",
          "data": {
            "text/plain": [
              "True"
            ]
          },
          "metadata": {
            "tags": []
          },
          "execution_count": 12
        }
      ]
    },
    {
      "cell_type": "code",
      "metadata": {
        "id": "XKRuZKYUXdnZ",
        "colab_type": "code",
        "colab": {}
      },
      "source": [
        "#List\n",
        "Country_List = ['Somalia','Nigeria','Ethiopia']\n",
        "Items = [\"Kerosene\",2,\"Rice\",10,\"Sugar\",2.5]"
      ],
      "execution_count": null,
      "outputs": []
    },
    {
      "cell_type": "code",
      "metadata": {
        "id": "8KjF9N13YE9a",
        "colab_type": "code",
        "colab": {
          "base_uri": "https://localhost:8080/",
          "height": 34
        },
        "outputId": "e76b429e-5dee-471f-b37e-6cd1901dc990"
      },
      "source": [
        "Items.index(\"Sugar\")"
      ],
      "execution_count": null,
      "outputs": [
        {
          "output_type": "execute_result",
          "data": {
            "text/plain": [
              "4"
            ]
          },
          "metadata": {
            "tags": []
          },
          "execution_count": 15
        }
      ]
    },
    {
      "cell_type": "code",
      "metadata": {
        "id": "0A4kAi6gYgjQ",
        "colab_type": "code",
        "colab": {}
      },
      "source": [
        "bakery = ['Chips',2,'Aluva',0.5]"
      ],
      "execution_count": null,
      "outputs": []
    },
    {
      "cell_type": "code",
      "metadata": {
        "id": "vHqZ08mzY3g_",
        "colab_type": "code",
        "colab": {
          "base_uri": "https://localhost:8080/",
          "height": 34
        },
        "outputId": "7915b8e2-6cb7-420f-e9bd-c4c92718bec5"
      },
      "source": [
        "Updated_Items = Items+bakery\n",
        "Updated_Items"
      ],
      "execution_count": null,
      "outputs": [
        {
          "output_type": "execute_result",
          "data": {
            "text/plain": [
              "['Kerosene', 2, 'Rice', 10, 'Sugar', 2.5, 'Chips', 2, 'Aluva', 0.5]"
            ]
          },
          "metadata": {
            "tags": []
          },
          "execution_count": 19
        }
      ]
    },
    {
      "cell_type": "code",
      "metadata": {
        "id": "h7msKE6jagYG",
        "colab_type": "code",
        "colab": {
          "base_uri": "https://localhost:8080/",
          "height": 34
        },
        "outputId": "d1ce70f3-1e04-4aaa-c707-780563f51c13"
      },
      "source": [
        "2 + 3"
      ],
      "execution_count": null,
      "outputs": [
        {
          "output_type": "execute_result",
          "data": {
            "text/plain": [
              "5"
            ]
          },
          "metadata": {
            "tags": []
          },
          "execution_count": 20
        }
      ]
    },
    {
      "cell_type": "code",
      "metadata": {
        "id": "2BgSXulKa2z-",
        "colab_type": "code",
        "colab": {
          "base_uri": "https://localhost:8080/",
          "height": 35
        },
        "outputId": "d14b153b-2fe2-4763-91b7-5f32c6e9aa88"
      },
      "source": [
        "\"Ravi \" + \"13\" #Type casting --> Explicit Type conversion"
      ],
      "execution_count": null,
      "outputs": [
        {
          "output_type": "execute_result",
          "data": {
            "application/vnd.google.colaboratory.intrinsic+json": {
              "type": "string"
            },
            "text/plain": [
              "'Ravi 13'"
            ]
          },
          "metadata": {
            "tags": []
          },
          "execution_count": 24
        }
      ]
    },
    {
      "cell_type": "code",
      "metadata": {
        "id": "c1Sd0eFva6Vu",
        "colab_type": "code",
        "colab": {}
      },
      "source": [
        "#pandas --> Package for data manipulation\n",
        "#numpy --> Package for numerical manipulation : arrays, broadcasting\n",
        "#matplotlib, seaboarn, plotly --> Visualisation\n",
        "#scikitlearn --> package for ML\n",
        "#keras, Tensorflow, Pytorch --> Packages for DL\n",
        "import pandas as pd\n"
      ],
      "execution_count": null,
      "outputs": []
    },
    {
      "cell_type": "code",
      "metadata": {
        "id": "voaWzcb2dBdo",
        "colab_type": "code",
        "colab": {}
      },
      "source": [
        "covid = pd.read_csv('/content/full_data.csv')"
      ],
      "execution_count": null,
      "outputs": []
    },
    {
      "cell_type": "code",
      "metadata": {
        "id": "Px0yewg7dt5s",
        "colab_type": "code",
        "colab": {
          "base_uri": "https://localhost:8080/",
          "height": 34
        },
        "outputId": "123098ad-c502-422a-a11a-02dd9aa72029"
      },
      "source": [
        "type(covid) # Data Frame --> 2D pandas object, Series --> 1 D pandas object "
      ],
      "execution_count": null,
      "outputs": [
        {
          "output_type": "execute_result",
          "data": {
            "text/plain": [
              "pandas.core.frame.DataFrame"
            ]
          },
          "metadata": {
            "tags": []
          },
          "execution_count": 27
        }
      ]
    },
    {
      "cell_type": "code",
      "metadata": {
        "id": "XbXeoqd6d2sN",
        "colab_type": "code",
        "colab": {
          "base_uri": "https://localhost:8080/",
          "height": 308
        },
        "outputId": "2852d8bf-f6ee-4141-ecb9-2cd680356d33"
      },
      "source": [
        "covid.info()"
      ],
      "execution_count": null,
      "outputs": [
        {
          "output_type": "stream",
          "text": [
            "<class 'pandas.core.frame.DataFrame'>\n",
            "RangeIndex: 39898 entries, 0 to 39897\n",
            "Data columns (total 10 columns):\n",
            " #   Column           Non-Null Count  Dtype  \n",
            "---  ------           --------------  -----  \n",
            " 0   date             39898 non-null  object \n",
            " 1   location         39898 non-null  object \n",
            " 2   new_cases        39572 non-null  float64\n",
            " 3   new_deaths       39572 non-null  float64\n",
            " 4   total_cases      39572 non-null  float64\n",
            " 5   total_deaths     39572 non-null  float64\n",
            " 6   weekly_cases     38790 non-null  float64\n",
            " 7   weekly_deaths    38790 non-null  float64\n",
            " 8   biweekly_cases   37313 non-null  float64\n",
            " 9   biweekly_deaths  37313 non-null  float64\n",
            "dtypes: float64(8), object(2)\n",
            "memory usage: 3.0+ MB\n"
          ],
          "name": "stdout"
        }
      ]
    },
    {
      "cell_type": "code",
      "metadata": {
        "id": "C_GZlT70eUO0",
        "colab_type": "code",
        "colab": {
          "base_uri": "https://localhost:8080/",
          "height": 206
        },
        "outputId": "fe769b89-c939-43ed-b613-0284e1e6eabf"
      },
      "source": [
        "covid.isna().sum()"
      ],
      "execution_count": null,
      "outputs": [
        {
          "output_type": "execute_result",
          "data": {
            "text/plain": [
              "date                  0\n",
              "location              0\n",
              "new_cases           326\n",
              "new_deaths          326\n",
              "total_cases         326\n",
              "total_deaths        326\n",
              "weekly_cases       1108\n",
              "weekly_deaths      1108\n",
              "biweekly_cases     2585\n",
              "biweekly_deaths    2585\n",
              "dtype: int64"
            ]
          },
          "metadata": {
            "tags": []
          },
          "execution_count": 29
        }
      ]
    },
    {
      "cell_type": "code",
      "metadata": {
        "id": "tN4jlhaUfYlb",
        "colab_type": "code",
        "colab": {
          "base_uri": "https://localhost:8080/",
          "height": 86
        },
        "outputId": "de23ee01-d8b5-40ad-96f5-b92a124ee2ac"
      },
      "source": [
        "covid.columns"
      ],
      "execution_count": null,
      "outputs": [
        {
          "output_type": "execute_result",
          "data": {
            "text/plain": [
              "Index(['date', 'location', 'new_cases', 'new_deaths', 'total_cases',\n",
              "       'total_deaths', 'weekly_cases', 'weekly_deaths', 'biweekly_cases',\n",
              "       'biweekly_deaths'],\n",
              "      dtype='object')"
            ]
          },
          "metadata": {
            "tags": []
          },
          "execution_count": 30
        }
      ]
    },
    {
      "cell_type": "code",
      "metadata": {
        "id": "vxmsngL_f0AJ",
        "colab_type": "code",
        "colab": {
          "base_uri": "https://localhost:8080/",
          "height": 34
        },
        "outputId": "57621c9b-0b6b-4bdb-97a8-7c62a711ce0f"
      },
      "source": [
        "covid.index"
      ],
      "execution_count": null,
      "outputs": [
        {
          "output_type": "execute_result",
          "data": {
            "text/plain": [
              "RangeIndex(start=0, stop=39898, step=1)"
            ]
          },
          "metadata": {
            "tags": []
          },
          "execution_count": 31
        }
      ]
    },
    {
      "cell_type": "code",
      "metadata": {
        "id": "1toqa7N8gAtk",
        "colab_type": "code",
        "colab": {
          "base_uri": "https://localhost:8080/",
          "height": 308
        },
        "outputId": "573ce6e5-0147-48c7-a836-d46d26b6b0b3"
      },
      "source": [
        "covid.head()"
      ],
      "execution_count": null,
      "outputs": [
        {
          "output_type": "execute_result",
          "data": {
            "text/html": [
              "<div>\n",
              "<style scoped>\n",
              "    .dataframe tbody tr th:only-of-type {\n",
              "        vertical-align: middle;\n",
              "    }\n",
              "\n",
              "    .dataframe tbody tr th {\n",
              "        vertical-align: top;\n",
              "    }\n",
              "\n",
              "    .dataframe thead th {\n",
              "        text-align: right;\n",
              "    }\n",
              "</style>\n",
              "<table border=\"1\" class=\"dataframe\">\n",
              "  <thead>\n",
              "    <tr style=\"text-align: right;\">\n",
              "      <th></th>\n",
              "      <th>date</th>\n",
              "      <th>location</th>\n",
              "      <th>new_cases</th>\n",
              "      <th>new_deaths</th>\n",
              "      <th>total_cases</th>\n",
              "      <th>total_deaths</th>\n",
              "      <th>weekly_cases</th>\n",
              "      <th>weekly_deaths</th>\n",
              "      <th>biweekly_cases</th>\n",
              "      <th>biweekly_deaths</th>\n",
              "    </tr>\n",
              "  </thead>\n",
              "  <tbody>\n",
              "    <tr>\n",
              "      <th>0</th>\n",
              "      <td>2019-12-31</td>\n",
              "      <td>Afghanistan</td>\n",
              "      <td>0.0</td>\n",
              "      <td>0.0</td>\n",
              "      <td>0.0</td>\n",
              "      <td>0.0</td>\n",
              "      <td>NaN</td>\n",
              "      <td>NaN</td>\n",
              "      <td>NaN</td>\n",
              "      <td>NaN</td>\n",
              "    </tr>\n",
              "    <tr>\n",
              "      <th>1</th>\n",
              "      <td>2020-01-01</td>\n",
              "      <td>Afghanistan</td>\n",
              "      <td>0.0</td>\n",
              "      <td>0.0</td>\n",
              "      <td>0.0</td>\n",
              "      <td>0.0</td>\n",
              "      <td>NaN</td>\n",
              "      <td>NaN</td>\n",
              "      <td>NaN</td>\n",
              "      <td>NaN</td>\n",
              "    </tr>\n",
              "    <tr>\n",
              "      <th>2</th>\n",
              "      <td>2020-01-02</td>\n",
              "      <td>Afghanistan</td>\n",
              "      <td>0.0</td>\n",
              "      <td>0.0</td>\n",
              "      <td>0.0</td>\n",
              "      <td>0.0</td>\n",
              "      <td>NaN</td>\n",
              "      <td>NaN</td>\n",
              "      <td>NaN</td>\n",
              "      <td>NaN</td>\n",
              "    </tr>\n",
              "    <tr>\n",
              "      <th>3</th>\n",
              "      <td>2020-01-03</td>\n",
              "      <td>Afghanistan</td>\n",
              "      <td>0.0</td>\n",
              "      <td>0.0</td>\n",
              "      <td>0.0</td>\n",
              "      <td>0.0</td>\n",
              "      <td>NaN</td>\n",
              "      <td>NaN</td>\n",
              "      <td>NaN</td>\n",
              "      <td>NaN</td>\n",
              "    </tr>\n",
              "    <tr>\n",
              "      <th>4</th>\n",
              "      <td>2020-01-04</td>\n",
              "      <td>Afghanistan</td>\n",
              "      <td>0.0</td>\n",
              "      <td>0.0</td>\n",
              "      <td>0.0</td>\n",
              "      <td>0.0</td>\n",
              "      <td>NaN</td>\n",
              "      <td>NaN</td>\n",
              "      <td>NaN</td>\n",
              "      <td>NaN</td>\n",
              "    </tr>\n",
              "  </tbody>\n",
              "</table>\n",
              "</div>"
            ],
            "text/plain": [
              "         date     location  ...  biweekly_cases  biweekly_deaths\n",
              "0  2019-12-31  Afghanistan  ...             NaN              NaN\n",
              "1  2020-01-01  Afghanistan  ...             NaN              NaN\n",
              "2  2020-01-02  Afghanistan  ...             NaN              NaN\n",
              "3  2020-01-03  Afghanistan  ...             NaN              NaN\n",
              "4  2020-01-04  Afghanistan  ...             NaN              NaN\n",
              "\n",
              "[5 rows x 10 columns]"
            ]
          },
          "metadata": {
            "tags": []
          },
          "execution_count": 32
        }
      ]
    },
    {
      "cell_type": "code",
      "metadata": {
        "id": "OcuPlu8jgKPH",
        "colab_type": "code",
        "colab": {
          "base_uri": "https://localhost:8080/",
          "height": 308
        },
        "outputId": "2767a415-7b2d-4d72-92e8-fbc9d81e5c53"
      },
      "source": [
        "covid.tail()"
      ],
      "execution_count": null,
      "outputs": [
        {
          "output_type": "execute_result",
          "data": {
            "text/html": [
              "<div>\n",
              "<style scoped>\n",
              "    .dataframe tbody tr th:only-of-type {\n",
              "        vertical-align: middle;\n",
              "    }\n",
              "\n",
              "    .dataframe tbody tr th {\n",
              "        vertical-align: top;\n",
              "    }\n",
              "\n",
              "    .dataframe thead th {\n",
              "        text-align: right;\n",
              "    }\n",
              "</style>\n",
              "<table border=\"1\" class=\"dataframe\">\n",
              "  <thead>\n",
              "    <tr style=\"text-align: right;\">\n",
              "      <th></th>\n",
              "      <th>date</th>\n",
              "      <th>location</th>\n",
              "      <th>new_cases</th>\n",
              "      <th>new_deaths</th>\n",
              "      <th>total_cases</th>\n",
              "      <th>total_deaths</th>\n",
              "      <th>weekly_cases</th>\n",
              "      <th>weekly_deaths</th>\n",
              "      <th>biweekly_cases</th>\n",
              "      <th>biweekly_deaths</th>\n",
              "    </tr>\n",
              "  </thead>\n",
              "  <tbody>\n",
              "    <tr>\n",
              "      <th>39893</th>\n",
              "      <td>2020-08-25</td>\n",
              "      <td>Zimbabwe</td>\n",
              "      <td>140.0</td>\n",
              "      <td>0.0</td>\n",
              "      <td>6070.0</td>\n",
              "      <td>155.0</td>\n",
              "      <td>762.0</td>\n",
              "      <td>20.0</td>\n",
              "      <td>1322.0</td>\n",
              "      <td>51.0</td>\n",
              "    </tr>\n",
              "    <tr>\n",
              "      <th>39894</th>\n",
              "      <td>2020-08-26</td>\n",
              "      <td>Zimbabwe</td>\n",
              "      <td>126.0</td>\n",
              "      <td>11.0</td>\n",
              "      <td>6196.0</td>\n",
              "      <td>166.0</td>\n",
              "      <td>818.0</td>\n",
              "      <td>25.0</td>\n",
              "      <td>1378.0</td>\n",
              "      <td>62.0</td>\n",
              "    </tr>\n",
              "    <tr>\n",
              "      <th>39895</th>\n",
              "      <td>2020-08-27</td>\n",
              "      <td>Zimbabwe</td>\n",
              "      <td>55.0</td>\n",
              "      <td>13.0</td>\n",
              "      <td>6251.0</td>\n",
              "      <td>179.0</td>\n",
              "      <td>608.0</td>\n",
              "      <td>29.0</td>\n",
              "      <td>1358.0</td>\n",
              "      <td>57.0</td>\n",
              "    </tr>\n",
              "    <tr>\n",
              "      <th>39896</th>\n",
              "      <td>2020-08-28</td>\n",
              "      <td>Zimbabwe</td>\n",
              "      <td>41.0</td>\n",
              "      <td>10.0</td>\n",
              "      <td>6292.0</td>\n",
              "      <td>189.0</td>\n",
              "      <td>547.0</td>\n",
              "      <td>38.0</td>\n",
              "      <td>1302.0</td>\n",
              "      <td>61.0</td>\n",
              "    </tr>\n",
              "    <tr>\n",
              "      <th>39897</th>\n",
              "      <td>2020-08-29</td>\n",
              "      <td>Zimbabwe</td>\n",
              "      <td>96.0</td>\n",
              "      <td>6.0</td>\n",
              "      <td>6388.0</td>\n",
              "      <td>195.0</td>\n",
              "      <td>573.0</td>\n",
              "      <td>43.0</td>\n",
              "      <td>1316.0</td>\n",
              "      <td>67.0</td>\n",
              "    </tr>\n",
              "  </tbody>\n",
              "</table>\n",
              "</div>"
            ],
            "text/plain": [
              "             date  location  ...  biweekly_cases  biweekly_deaths\n",
              "39893  2020-08-25  Zimbabwe  ...          1322.0             51.0\n",
              "39894  2020-08-26  Zimbabwe  ...          1378.0             62.0\n",
              "39895  2020-08-27  Zimbabwe  ...          1358.0             57.0\n",
              "39896  2020-08-28  Zimbabwe  ...          1302.0             61.0\n",
              "39897  2020-08-29  Zimbabwe  ...          1316.0             67.0\n",
              "\n",
              "[5 rows x 10 columns]"
            ]
          },
          "metadata": {
            "tags": []
          },
          "execution_count": 33
        }
      ]
    },
    {
      "cell_type": "code",
      "metadata": {
        "id": "vNGP42gEgQBK",
        "colab_type": "code",
        "colab": {
          "base_uri": "https://localhost:8080/",
          "height": 34
        },
        "outputId": "521a8059-b105-40bf-aa57-b0479ab96045"
      },
      "source": [
        "Total_death = covid.groupby(\"location\")[\"new_deaths\"].sum()\n",
        "Total_death['India']"
      ],
      "execution_count": null,
      "outputs": [
        {
          "output_type": "execute_result",
          "data": {
            "text/plain": [
              "62550.0"
            ]
          },
          "metadata": {
            "tags": []
          },
          "execution_count": 35
        }
      ]
    },
    {
      "cell_type": "code",
      "metadata": {
        "id": "hFJ_XqYKhP0J",
        "colab_type": "code",
        "colab": {
          "base_uri": "https://localhost:8080/",
          "height": 34
        },
        "outputId": "0601f10c-8919-4177-86f1-eae043755108"
      },
      "source": [
        "Total_death['Somalia']"
      ],
      "execution_count": null,
      "outputs": [
        {
          "output_type": "execute_result",
          "data": {
            "text/plain": [
              "95.0"
            ]
          },
          "metadata": {
            "tags": []
          },
          "execution_count": 36
        }
      ]
    },
    {
      "cell_type": "code",
      "metadata": {
        "id": "i1vDx9tWhkRB",
        "colab_type": "code",
        "colab": {
          "base_uri": "https://localhost:8080/",
          "height": 34
        },
        "outputId": "5e7a6619-ccf4-4880-ba0c-9cd2ebaa3540"
      },
      "source": [
        "Total_death['China']"
      ],
      "execution_count": null,
      "outputs": [
        {
          "output_type": "execute_result",
          "data": {
            "text/plain": [
              "4718.0"
            ]
          },
          "metadata": {
            "tags": []
          },
          "execution_count": 37
        }
      ]
    },
    {
      "cell_type": "code",
      "metadata": {
        "id": "cj5fdRqVhqlC",
        "colab_type": "code",
        "colab": {
          "base_uri": "https://localhost:8080/",
          "height": 355
        },
        "outputId": "9fe4d29a-2187-4455-e0d4-c18c6d76403b"
      },
      "source": [
        "covid.isna().sum().plot(kind='bar')"
      ],
      "execution_count": null,
      "outputs": [
        {
          "output_type": "execute_result",
          "data": {
            "text/plain": [
              "<matplotlib.axes._subplots.AxesSubplot at 0x7fe727d820f0>"
            ]
          },
          "metadata": {
            "tags": []
          },
          "execution_count": 38
        },
        {
          "output_type": "display_data",
          "data": {
            "image/png": "[encoded data removed]",
            "text/plain": [
              "<Figure size 432x288 with 1 Axes>"
            ]
          },
          "metadata": {
            "tags": [],
            "needs_background": "light"
          }
        }
      ]
    },
    {
      "cell_type": "code",
      "metadata": {
        "id": "tcIV9EIUidNe",
        "colab_type": "code",
        "colab": {}
      },
      "source": [
        "#Preprocessing\n",
        "# Data Cleaning --> Delete rows with missing values , Fill rows with zero, average\n",
        "covid_wmv = covid.fillna(0)"
      ],
      "execution_count": null,
      "outputs": []
    },
    {
      "cell_type": "code",
      "metadata": {
        "id": "4bxpS4tzjKK_",
        "colab_type": "code",
        "colab": {
          "base_uri": "https://localhost:8080/",
          "height": 308
        },
        "outputId": "9541a1b5-a01a-420c-fe47-86dff2cc071a"
      },
      "source": [
        "covid_wmv.info()"
      ],
      "execution_count": null,
      "outputs": [
        {
          "output_type": "stream",
          "text": [
            "<class 'pandas.core.frame.DataFrame'>\n",
            "RangeIndex: 39898 entries, 0 to 39897\n",
            "Data columns (total 10 columns):\n",
            " #   Column           Non-Null Count  Dtype  \n",
            "---  ------           --------------  -----  \n",
            " 0   date             39898 non-null  object \n",
            " 1   location         39898 non-null  object \n",
            " 2   new_cases        39898 non-null  float64\n",
            " 3   new_deaths       39898 non-null  float64\n",
            " 4   total_cases      39898 non-null  float64\n",
            " 5   total_deaths     39898 non-null  float64\n",
            " 6   weekly_cases     39898 non-null  float64\n",
            " 7   weekly_deaths    39898 non-null  float64\n",
            " 8   biweekly_cases   39898 non-null  float64\n",
            " 9   biweekly_deaths  39898 non-null  float64\n",
            "dtypes: float64(8), object(2)\n",
            "memory usage: 3.0+ MB\n"
          ],
          "name": "stdout"
        }
      ]
    },
    {
      "cell_type": "code",
      "metadata": {
        "id": "8WdmQNCEjOAn",
        "colab_type": "code",
        "colab": {
          "base_uri": "https://localhost:8080/",
          "height": 206
        },
        "outputId": "cf36ee22-906e-49e0-a581-45d5e7c7fa8c"
      },
      "source": [
        "covid_wmv.isna().sum()"
      ],
      "execution_count": null,
      "outputs": [
        {
          "output_type": "execute_result",
          "data": {
            "text/plain": [
              "date               0\n",
              "location           0\n",
              "new_cases          0\n",
              "new_deaths         0\n",
              "total_cases        0\n",
              "total_deaths       0\n",
              "weekly_cases       0\n",
              "weekly_deaths      0\n",
              "biweekly_cases     0\n",
              "biweekly_deaths    0\n",
              "dtype: int64"
            ]
          },
          "metadata": {
            "tags": []
          },
          "execution_count": 43
        }
      ]
    },
    {
      "cell_type": "code",
      "metadata": {
        "id": "mD64A898jYrA",
        "colab_type": "code",
        "colab": {}
      },
      "source": [
        ""
      ],
      "execution_count": null,
      "outputs": []
    },
    {
      "cell_type": "markdown",
      "metadata": {
        "id": "Um9qNh6fjf_9",
        "colab_type": "text"
      },
      "source": [
        "1. Python for DS\n",
        "2. Collected Data\n",
        "3. Data Preprocessing\n",
        "4. EDA --> Exploratory Data Analysis\n",
        "\n",
        "5. Build ML model --> ML: Learning from data (Training), \n",
        "Prediction ( Testing)\n",
        "DL --> Artificial Neural Network (ANN)\n",
        "\n",
        "6. Visualisation , Report "
      ]
    }
  ]
}